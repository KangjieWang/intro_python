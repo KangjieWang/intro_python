{
 "cells": [
  {
   "cell_type": "markdown",
   "id": "fc937586",
   "metadata": {},
   "source": [
    "# Revision Session Winter '23\n",
    "\n",
    "Topics to cover:\n",
    "  \n",
    "* Dictionaries\n",
    "* Recursion\n",
    "* Classes, inheritance\n",
    "* Big O notation\n",
    "* Exceptions\n",
    "* Unit-testing\n",
    "* Files\n",
    "* Questions on practice final (maybe)\n"
   ]
  },
  {
   "cell_type": "code",
   "execution_count": 5,
   "id": "4966ad2b",
   "metadata": {},
   "outputs": [
    {
     "name": "stdout",
     "output_type": "stream",
     "text": [
      "The sum of the values is 66\n",
      "66\n"
     ]
    }
   ],
   "source": [
    "# Dictionaries\n",
    "\n",
    "# Making an empty dictionary\n",
    "d = {\"one\":5, \"two\":7, \"three\":54}\n",
    "\n",
    "# Sum the values of the entries in the dictionary\n",
    "i = 0 # The sum of the values\n",
    "for k in d: # For each key in the dictionary\n",
    "    i += d[k] # Add the value to i\n",
    "    \n",
    "\n",
    "print(f\"The sum of the values is {i}\") # Nice print statement \n",
    "\n",
    "# Alternatively we could use sum function:\n",
    "print(sum(d.values()))"
   ]
  },
  {
   "cell_type": "code",
   "execution_count": 11,
   "id": "91e30a40",
   "metadata": {},
   "outputs": [
    {
     "name": "stdout",
     "output_type": "stream",
     "text": [
      "The recursive sum of the list l: [1, 56, 8, 9, 12, 13], is 99\n",
      "Checking 1331\n",
      "Checking 33\n",
      "Checking \n",
      "Is 1331 a plaindrome: True\n",
      "Checking 12345\n",
      "Is 12345 a plaindrome: False\n",
      "Checking 2323\n",
      "Is 2323 a plaindrome: False\n",
      "Checking 789987\n",
      "Checking 8998\n",
      "Checking 99\n",
      "Checking \n",
      "Is 789987 a plaindrome: True\n"
     ]
    }
   ],
   "source": [
    "# Recursion\n",
    "\n",
    "l = [1, 56, 8, 9, 12, 13]\n",
    "# Write a recursive function to sum the elements in the list, \n",
    "# recursive_sum\n",
    "\n",
    "def recursive_sum(l):\n",
    "    if len(l) == 0:  # If there is nothing in the list just return 0\n",
    "        return 0\n",
    "    # Otherwise, the recursive sum is the first element of the list\n",
    "    # added to recursive_sum of the remaining elements\n",
    "    return l[0] + recursive_sum(l[1:])\n",
    "\n",
    "    # On one line:\n",
    "    #return 0 if len(l) == 0 else l[0] + recursive_sum(l[1:])\n",
    "\n",
    "print(f\"The recursive sum of the list l: {l}, is {recursive_sum(l)}\")\n",
    "\n",
    "\n",
    "# Check if a number is a palindrome (palindrome: same forward as backward) recursively\n",
    "l = [1331, 12345, 2323, 789987 ]\n",
    "\n",
    "def num_digits(n):\n",
    "    if n == 0:\n",
    "        return 0\n",
    "    return 1 + num_digits(n//10)\n",
    "\n",
    "def is_palindrome(n):\n",
    "    print(\"Checking\", n)\n",
    "    if len(n) <= 1: # If there is one or zero digits then we consider the number a palindrome\n",
    "        return True\n",
    "    most_sig = n[0]\n",
    "    least_sig = n[-1]\n",
    "    return most_sig == least_sig and is_palindrome(n[1:-1])\n",
    "    \n",
    "\n",
    "for i in l:\n",
    "    print(f\"Is {i} a plaindrome: {is_palindrome(str(i))}\")\n"
   ]
  },
  {
   "cell_type": "code",
   "execution_count": 17,
   "id": "fe8ec150",
   "metadata": {},
   "outputs": [
    {
     "name": "stdout",
     "output_type": "stream",
     "text": [
      "Here is my computer The computer's name is: Ben's computer\n",
      "Here is my phone The phone name is: Ben's phone, the number is 831123456\n"
     ]
    }
   ],
   "source": [
    "# Classes, inheritance\n",
    "\n",
    "class Computer:\n",
    "    def __init__(self, name):\n",
    "        self.name = name # Give the computer a name\n",
    "        \n",
    "    def __str__(self):\n",
    "        return f\"The computer's name is: {self.name}\"\n",
    "\n",
    "# Make a object of type computer\n",
    "c = Computer(\"Ben's computer\")\n",
    "print(\"Here is my computer\", c)\n",
    "\n",
    "\n",
    "# To inherit from Computer make a new class:\n",
    "\n",
    "class SmartPhone(Computer):  # I am making a class that inherits from Computer\n",
    "    # Let's add a new constructor \n",
    "    def __init__(self, name, number):\n",
    "        #Computer.__init__(self, name) # Call the parent class's constructor\n",
    "        super().__init__(name)  # Alternatively, call super() and then the name of \n",
    "        # the method in the parent class you want to call\n",
    "        self.number = number\n",
    "        \n",
    "    def __str__(self):\n",
    "        return f\"The phone name is: {self.name}, the number is {self.number}\"\n",
    "\n",
    "p = SmartPhone(\"Ben's phone\", 831123456)\n",
    "print(\"Here is my phone\", p)"
   ]
  },
  {
   "cell_type": "code",
   "execution_count": null,
   "id": "257acce3",
   "metadata": {},
   "outputs": [],
   "source": [
    "# Big O notation\n",
    "\n",
    "# Computational complexity\n",
    "# Big O notation, e.g. O(n) is the worst case running \n",
    "# time or memory (as specified)\n",
    "\n",
    "n = 1000\n",
    "l = list(range(n))\n",
    "j = 0\n",
    "for i in l:\n",
    "    j += i\n",
    "print(j)\n",
    "\n",
    "# What is the worst case running time of the above in terms of n? \n",
    "# Express this using big O notation.\n",
    "\n",
    "# O(n) \n"
   ]
  },
  {
   "cell_type": "code",
   "execution_count": 20,
   "id": "c3ce7424",
   "metadata": {},
   "outputs": [
    {
     "name": "stdout",
     "output_type": "stream",
     "text": [
      "Encountered unexpected value dfsfs\n",
      "Encountered unexpected value fdws\n",
      "676\n"
     ]
    }
   ],
   "source": [
    "# Exceptions\n",
    "\n",
    "# \n",
    "l = [ 0, 1, \"dfsfs\", 675, \"fdws\"]\n",
    "\n",
    "# Complete the code to use exception handling to \n",
    "# sum the integers in the list, ignoring\n",
    "# the strings\n",
    "\n",
    "i = 0 # The sum of the integers\n",
    "for j in l: \n",
    "    try: \n",
    "        i += j\n",
    "    except TypeError:  \n",
    "        print(\"Encountered unexpected value\", j)\n",
    " \n",
    "print(i)\n"
   ]
  },
  {
   "cell_type": "code",
   "execution_count": 23,
   "id": "ff34ccac",
   "metadata": {},
   "outputs": [
    {
     "name": "stderr",
     "output_type": "stream",
     "text": [
      "\n",
      "----------------------------------------------------------------------\n",
      "Ran 0 tests in 0.000s\n",
      "\n",
      "OK\n"
     ]
    },
    {
     "data": {
      "text/plain": [
       "<unittest.main.TestProgram at 0x107d2f290>"
      ]
     },
     "execution_count": 23,
     "metadata": {},
     "output_type": "execute_result"
    }
   ],
   "source": [
    "# Unit-testing\n",
    "\n",
    "import unittest # To unittest you need to import the unittest module\n",
    "\n",
    "# The thing I want to test\n",
    "def multiply(x, y):\n",
    "    return x * y\n",
    "\n",
    "\n",
    "class TestMultiply(unittest.TestCase):\n",
    "    def testMultiply(self): # Remember to call the method test\n",
    "        \"\"\" Test the multiply function \"\"\"\n",
    "        self.assertEqual(multiply(2, 3), 6)\n",
    "\n",
    "# Below is required to invoke the unittest framework\n",
    "unittest.main(argv=['first-arg-is-ignored'], exit=False)"
   ]
  },
  {
   "cell_type": "code",
   "execution_count": 26,
   "id": "8503bd8a",
   "metadata": {},
   "outputs": [
    {
     "name": "stdout",
     "output_type": "stream",
     "text": [
      "d2 is {'a': 'key', 'some': 'stuff', 'foo': 'bar'}\n"
     ]
    }
   ],
   "source": [
    "# Files\n",
    "\n",
    "d = { \"a\":\"key\", \"some\":\"stuff\", \"foo\":\"bar\"} # A dictionary\n",
    "\n",
    "# (1) Write the key:value pairs into a file \"local.txt\", putting\n",
    "# each key value pair on a line. Separate the key and the value using\n",
    "# whitespace\n",
    "\n",
    "with open(\"local.txt\", \"w\") as fh: # Open the file for writing, using\n",
    "    # with to cleanup the file handle\n",
    "    for k in d: # For each key value pair in d\n",
    "        fh.write(f\"{k} {d[k]}\\n\") # Write the key value pair on to a line\n",
    "        # Remember that write needs you to specify the new line if you\n",
    "        # want it\n",
    "\n",
    "# (2) Now read back the key:value pairs from \"local.txt\", creating a \n",
    "# new dictionary d2.\n",
    "\n",
    "fh = open(\"local.txt\", \"r\") # Instead of using with, just to show \n",
    "# you the other way, I'm just going to open the file handle and close\n",
    "# it myself. Note: this is not as safe\n",
    "\n",
    "d2 = {} # Make the new dictionnary\n",
    "for line in fh: # Iterate on the lines in the file using a for loop\n",
    "    tokens = line.split() # Break the line up\n",
    "    assert len(tokens) == 2 # We expect two words, one for the key\n",
    "    # one for the value\n",
    "    d2[tokens[0]] = tokens[1]\n",
    "fh.close() # As I opened the file handle without with, I need to close\n",
    "# the file\n",
    "    \n",
    "# (3) Assert d and d2 are equal\n",
    "assert d == d2\n",
    "\n",
    "print(\"d2 is\", d2)"
   ]
  },
  {
   "cell_type": "code",
   "execution_count": null,
   "id": "80176497",
   "metadata": {},
   "outputs": [],
   "source": []
  }
 ],
 "metadata": {
  "kernelspec": {
   "display_name": "intro_python_env",
   "language": "python",
   "name": "intro_python_env"
  },
  "language_info": {
   "codemirror_mode": {
    "name": "ipython",
    "version": 3
   },
   "file_extension": ".py",
   "mimetype": "text/x-python",
   "name": "python",
   "nbconvert_exporter": "python",
   "pygments_lexer": "ipython3",
   "version": "3.11.2"
  }
 },
 "nbformat": 4,
 "nbformat_minor": 5
}
